{
 "cells": [
  {
   "cell_type": "code",
   "execution_count": 1,
   "metadata": {},
   "outputs": [],
   "source": [
    "import pandas as pd\n",
    "from sklearn.feature_extraction.text import TfidfVectorizer\n",
    "from sklearn.metrics.pairwise import cosine_similarity\n"
   ]
  },
  {
   "cell_type": "code",
   "execution_count": 2,
   "metadata": {},
   "outputs": [
    {
     "name": "stdout",
     "output_type": "stream",
     "text": [
      "                         title  \\\n",
      "0                    Toy Story   \n",
      "1                      Jumanji   \n",
      "2             Grumpier Old Men   \n",
      "3  Father of the Bride Part II   \n",
      "4                         Heat   \n",
      "\n",
      "                                            overview  \n",
      "0  Led by Woody, Andy's toys live happily in his ...  \n",
      "1  When siblings Judy and Peter discover an encha...  \n",
      "2  A family wedding reignites the ancient feud be...  \n",
      "3  Just when George Banks has recovered from his ...  \n",
      "4  Obsessive master thief, Neil McCauley leads a ...  \n"
     ]
    }
   ],
   "source": [
    "# Load movie dataset\n",
    "movies = pd.read_csv(\"movies_metadata_cleaned.csv\")  # Use cleaned data\n",
    "\n",
    "# Fill missing overviews with empty string\n",
    "movies['overview'] = movies['overview'].fillna(\"\")\n",
    "\n",
    "# Check data\n",
    "print(movies[['title', 'overview']].head())\n"
   ]
  },
  {
   "cell_type": "code",
   "execution_count": 3,
   "metadata": {},
   "outputs": [
    {
     "name": "stdout",
     "output_type": "stream",
     "text": [
      "Cosine Similarity Matrix Shape: (9115, 9115)\n"
     ]
    }
   ],
   "source": [
    "# Convert text (movie descriptions) into TF-IDF vectors\n",
    "tfidf_vectorizer = TfidfVectorizer(stop_words='english')\n",
    "tfidf_matrix = tfidf_vectorizer.fit_transform(movies['overview'])\n",
    "\n",
    "# Compute Cosine Similarity between all movies\n",
    "cosine_sim = cosine_similarity(tfidf_matrix, tfidf_matrix)\n",
    "\n",
    "print(\"Cosine Similarity Matrix Shape:\", cosine_sim.shape)  # Should be (num_movies, num_movies)\n"
   ]
  },
  {
   "cell_type": "code",
   "execution_count": 4,
   "metadata": {},
   "outputs": [
    {
     "name": "stdout",
     "output_type": "stream",
     "text": [
      "                        title      id\n",
      "597    The Godfather: Part II     240\n",
      "992   The Godfather: Part III     242\n",
      "7045               Blood Ties  190955\n",
      "4163                 Election   18747\n",
      "8832            Live by Night  259695\n",
      "1532           American Movie   14242\n",
      "5788               Easy Money   29920\n",
      "2209                     Made   15745\n",
      "7266      The Look of Silence  267480\n",
      "6339                 Sinister   82507\n"
     ]
    }
   ],
   "source": [
    "def recommend_similar_movies(movie_title, n=10):\n",
    "    \"\"\"Finds movies similar to the given movie title using content-based filtering.\"\"\"\n",
    "    \n",
    "    # Check if the movie exists in the dataset\n",
    "    if movie_title not in movies['title'].values:\n",
    "        return \"Movie not found in dataset.\"\n",
    "    \n",
    "    # Get index of the given movie\n",
    "    idx = movies[movies['title'] == movie_title].index[0]\n",
    "    \n",
    "    # Get similarity scores with all other movies\n",
    "    sim_scores = list(enumerate(cosine_sim[idx]))\n",
    "    \n",
    "    # Sort movies by similarity score (highest first), excluding the input movie itself\n",
    "    sim_scores = sorted(sim_scores, key=lambda x: x[1], reverse=True)[1:n+1]\n",
    "    \n",
    "    # Get movie indices\n",
    "    movie_indices = [i[0] for i in sim_scores]\n",
    "    \n",
    "    # Return recommended movies\n",
    "    return movies.iloc[movie_indices][['title', 'id']]\n",
    "\n",
    "# Example: Find movies similar to \"The Godfather\"\n",
    "similar_movies = recommend_similar_movies(\"The Godfather\", 10)\n",
    "print(similar_movies)\n"
   ]
  }
 ],
 "metadata": {
  "kernelspec": {
   "display_name": "Python 3",
   "language": "python",
   "name": "python3"
  },
  "language_info": {
   "codemirror_mode": {
    "name": "ipython",
    "version": 3
   },
   "file_extension": ".py",
   "mimetype": "text/x-python",
   "name": "python",
   "nbconvert_exporter": "python",
   "pygments_lexer": "ipython3",
   "version": "3.12.9"
  }
 },
 "nbformat": 4,
 "nbformat_minor": 2
}
