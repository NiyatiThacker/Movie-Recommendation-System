{
 "cells": [
  {
   "cell_type": "code",
   "execution_count": 1,
   "metadata": {},
   "outputs": [],
   "source": [
    "import pandas as pd\n",
    "from surprise import Dataset, Reader, SVD\n",
    "from surprise.model_selection import train_test_split\n",
    "from surprise import accuracy\n",
    "from sklearn.feature_extraction.text import TfidfVectorizer\n",
    "from sklearn.metrics.pairwise import cosine_similarity\n",
    "\n"
   ]
  },
  {
   "cell_type": "code",
   "execution_count": 2,
   "metadata": {},
   "outputs": [],
   "source": [
    "# Load datasets\n",
    "movies = pd.read_csv(\"movies_metadata_cleaned.csv\")  # Use cleaned movie dataset\n",
    "ratings = pd.read_csv(\"ratings_small.csv\")  # User ratings dataset\n",
    "\n",
    "# Fill missing overviews\n",
    "movies['overview'] = movies['overview'].fillna(\"\")\n"
   ]
  },
  {
   "cell_type": "code",
   "execution_count": 3,
   "metadata": {},
   "outputs": [
    {
     "name": "stdout",
     "output_type": "stream",
     "text": [
      "RMSE: 0.8998\n",
      "SVD Model RMSE: 0.8998056963571979\n"
     ]
    }
   ],
   "source": [
    "# Define rating scale (0.5 to 5.0)\n",
    "reader = Reader(rating_scale=(0.5, 5))\n",
    "\n",
    "# Load dataset into Surprise format\n",
    "data = Dataset.load_from_df(ratings[['userId', 'movieId', 'rating']], reader)\n",
    "\n",
    "# Split dataset into train (80%) and test (20%)\n",
    "trainset, testset = train_test_split(data, test_size=0.2)\n",
    "\n",
    "# Train SVD model\n",
    "svd = SVD()\n",
    "svd.fit(trainset)\n",
    "\n",
    "# Evaluate model using RMSE\n",
    "predictions = svd.test(testset)\n",
    "rmse = accuracy.rmse(predictions)\n",
    "print(\"SVD Model RMSE:\", rmse)\n"
   ]
  },
  {
   "cell_type": "code",
   "execution_count": 4,
   "metadata": {},
   "outputs": [],
   "source": [
    "# Convert movie overviews into TF-IDF vectors\n",
    "tfidf_vectorizer = TfidfVectorizer(stop_words='english')\n",
    "tfidf_matrix = tfidf_vectorizer.fit_transform(movies['overview'])\n",
    "\n",
    "# Compute Cosine Similarity between all movies\n",
    "cosine_sim = cosine_similarity(tfidf_matrix, tfidf_matrix)\n"
   ]
  },
  {
   "cell_type": "code",
   "execution_count": 5,
   "metadata": {},
   "outputs": [
    {
     "name": "stdout",
     "output_type": "stream",
     "text": [
      "\n",
      "Recommended Movie: The Million Dollar Hotel\n",
      "→ Similar Movies: The Silence, Hotel Rwanda\n",
      "\n",
      "Recommended Movie: Sleepless in Seattle\n",
      "→ Similar Movies: The Shaggy Dog, Why Him?\n",
      "\n",
      "Recommended Movie: Nell\n",
      "→ Similar Movies: The Cabin in the Woods, Cabin Fever\n",
      "\n",
      "Recommended Movie: Terminator 3: Rise of the Machines\n",
      "→ Similar Movies: Terminator 2: Judgment Day, Terminator Salvation\n",
      "\n",
      "Recommended Movie: Once Were Warriors\n",
      "→ Similar Movies: The First Day of the Rest of Your Life, 2012: Ice Age\n"
     ]
    }
   ],
   "source": [
    "def hybrid_recommendation(user_id, n=5):\n",
    "    \"\"\"Combines Collaborative Filtering (SVD) & Content-Based Filtering (TF-IDF).\"\"\"\n",
    "    \n",
    "    # Step 1: Get Top N Recommended Movies for User (Collaborative Filtering)\n",
    "    all_movie_ids = movies['id'].unique()\n",
    "    rated_movie_ids = ratings[ratings['userId'] == user_id]['movieId'].unique()\n",
    "    unrated_movie_ids = [movie_id for movie_id in all_movie_ids if movie_id not in rated_movie_ids]\n",
    "    \n",
    "    # Predict ratings for unrated movies\n",
    "    predictions = [svd.predict(user_id, movie_id) for movie_id in unrated_movie_ids]\n",
    "    \n",
    "    # Sort by highest predicted rating\n",
    "    predictions.sort(key=lambda x: x.est, reverse=True)\n",
    "    \n",
    "    # Get top N recommended movies\n",
    "    top_movie_ids = [pred.iid for pred in predictions[:n]]\n",
    "    \n",
    "    # Step 2: Find Similar Movies for Each Recommended Movie (Content-Based)\n",
    "    recommended_movies = []\n",
    "    for movie_id in top_movie_ids:\n",
    "        # Find movie title\n",
    "        movie_title = movies[movies['id'] == movie_id]['title'].values[0]\n",
    "        \n",
    "        # Find similar movies\n",
    "        idx = movies[movies['id'] == movie_id].index[0]\n",
    "        sim_scores = list(enumerate(cosine_sim[idx]))\n",
    "        sim_scores = sorted(sim_scores, key=lambda x: x[1], reverse=True)[1:3]  # Get top 2 similar movies\n",
    "        \n",
    "        # Get similar movie titles\n",
    "        similar_movie_ids = [movies.iloc[i[0]]['id'] for i in sim_scores]\n",
    "        similar_movie_titles = movies[movies['id'].isin(similar_movie_ids)]['title'].tolist()\n",
    "        \n",
    "        # Add to final recommendation list\n",
    "        recommended_movies.append({\"Movie\": movie_title, \"Similar Movies\": similar_movie_titles})\n",
    "    \n",
    "    return recommended_movies\n",
    "\n",
    "# Example: Get Hybrid Recommendations for User 1\n",
    "hybrid_recs = hybrid_recommendation(user_id=1, n=5)\n",
    "for rec in hybrid_recs:\n",
    "    print(f\"\\nRecommended Movie: {rec['Movie']}\")\n",
    "    print(f\"→ Similar Movies: {', '.join(rec['Similar Movies'])}\")\n"
   ]
  }
 ],
 "metadata": {
  "kernelspec": {
   "display_name": "Python 3",
   "language": "python",
   "name": "python3"
  },
  "language_info": {
   "codemirror_mode": {
    "name": "ipython",
    "version": 3
   },
   "file_extension": ".py",
   "mimetype": "text/x-python",
   "name": "python",
   "nbconvert_exporter": "python",
   "pygments_lexer": "ipython3",
   "version": "3.12.9"
  }
 },
 "nbformat": 4,
 "nbformat_minor": 2
}
